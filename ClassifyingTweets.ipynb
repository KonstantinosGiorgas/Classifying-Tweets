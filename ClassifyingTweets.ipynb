{
  "nbformat": 4,
  "nbformat_minor": 0,
  "metadata": {
    "colab": {
      "name": "Assignement_3.ipynb",
      "provenance": [],
      "collapsed_sections": [
        "2DTirTmv7-J1",
        "2GvHTyqU9L-6"
      ],
      "toc_visible": true
    },
    "kernelspec": {
      "name": "python3",
      "display_name": "Python 3"
    },
    "accelerator": "GPU"
  },
  "cells": [
    {
      "cell_type": "markdown",
      "metadata": {
        "id": "kU4XY5cdN4jZ"
      },
      "source": [
        "# **Classifying MEP tweets based on Political Party**\n",
        "## Konstantinos Giorgas\n",
        "### *Athens, 12/03/2020*\n"
      ]
    },
    {
      "cell_type": "markdown",
      "metadata": {
        "id": "XYJDMcTuWvA4"
      },
      "source": [
        "## Loading Libraries and Functions"
      ]
    },
    {
      "cell_type": "markdown",
      "metadata": {
        "id": "i821CqFJooL9"
      },
      "source": [
        "### Libraries"
      ]
    },
    {
      "cell_type": "code",
      "metadata": {
        "id": "IIBrKSkYxkOT",
        "outputId": "7713a5d3-c21f-4178-a365-33cdca129a38",
        "colab": {
          "base_uri": "https://localhost:8080/",
          "height": 105
        }
      },
      "source": [
        "import tweepy\n",
        "import pandas as pd\n",
        "import numpy as np\n",
        "from html import unescape\n",
        "from sklearn import model_selection, preprocessing, tree, naive_bayes, metrics, svm, decomposition\n",
        "from sklearn.ensemble import BaggingClassifier, RandomForestClassifier, ExtraTreesClassifier, AdaBoostClassifier\n",
        "from sklearn.metrics import classification_report\n",
        "import xgboost as xgb\n",
        "from sklearn.metrics import confusion_matrix\n",
        "from sklearn.pipeline import Pipeline\n",
        "from sklearn.naive_bayes import MultinomialNB\n",
        "from sklearn.feature_extraction.text import TfidfVectorizer, CountVectorizer, TfidfTransformer\n",
        "from sklearn.model_selection import cross_val_score, KFold, GridSearchCV\n",
        "from sklearn.feature_selection import RFE\n",
        "from sklearn.linear_model import LogisticRegression\n",
        "from imblearn.over_sampling import SMOTE\n",
        "from scipy.stats import sem\n",
        "from sklearn import svm\n",
        "import nltk\n",
        "from nltk import ngrams\n",
        "from nltk.corpus import stopwords\n",
        "from nltk.tokenize import word_tokenize \n",
        "from nltk.probability import FreqDist\n",
        "from collections import Counter\n",
        "import spacy\n",
        "import matplotlib.pyplot as plt\n",
        "import re\n",
        "import math"
      ],
      "execution_count": null,
      "outputs": [
        {
          "output_type": "stream",
          "text": [
            "/usr/local/lib/python3.6/dist-packages/sklearn/externals/six.py:31: FutureWarning: The module is deprecated in version 0.21 and will be removed in version 0.23 since we've dropped support for Python 2.7. Please rely on the official version of six (https://pypi.org/project/six/).\n",
            "  \"(https://pypi.org/project/six/).\", FutureWarning)\n",
            "/usr/local/lib/python3.6/dist-packages/sklearn/utils/deprecation.py:144: FutureWarning: The sklearn.neighbors.base module is  deprecated in version 0.22 and will be removed in version 0.24. The corresponding classes / functions should instead be imported from sklearn.neighbors. Anything that cannot be imported from sklearn.neighbors is now part of the private API.\n",
            "  warnings.warn(message, FutureWarning)\n"
          ],
          "name": "stderr"
        }
      ]
    },
    {
      "cell_type": "markdown",
      "metadata": {
        "id": "sl94GGu1pKWD"
      },
      "source": [
        "### Functions"
      ]
    },
    {
      "cell_type": "code",
      "metadata": {
        "id": "si3KvoJhpJ2s"
      },
      "source": [
        "def my_preprocessor(document):\n",
        "  #deletes all links from corpus, replaces n't with not keeps only letters and turns all letters\n",
        "  #to lowercase after translating any html character\n",
        "  step1 = re.sub(r'http\\S+', '', document)\n",
        "  step2 = step1.replace(\"won't\",\"will not\").replace(\"n't\",\" not\").replace(\"!\",\" exlmrk\").replace(\"?\",\" qsnmrk\")\n",
        "  step3 = re.sub(r'[^a-zA-Z_@&]+', ' ', unescape(step2.lower()))\n",
        "  step4 = ' '.join([w for w in step3.split() if len(w)>1])\n",
        "  return step4"
      ],
      "execution_count": null,
      "outputs": []
    },
    {
      "cell_type": "code",
      "metadata": {
        "id": "1PIe6C84pSRF"
      },
      "source": [
        "def my_tokenizer(doc):\n",
        "  #keeps only words that consist of more than 2 letters and exist in a predifined vocabulary\n",
        "  tokens = doc.split()\n",
        "  return(tokens)"
      ],
      "execution_count": null,
      "outputs": []
    },
    {
      "cell_type": "code",
      "metadata": {
        "id": "wtMGMGI_skCV"
      },
      "source": [
        "def getWordFreq(corpus):\n",
        "  #counts and prints the frequency of each unique word in a given corpus\n",
        "    result = {}\n",
        "    for sentence in corpus:\n",
        "        for word in sentence.split():\n",
        "            if word in result:\n",
        "                result[word] += 1\n",
        "            else:\n",
        "                result[word] = 1\n",
        "    result = sorted(result.items(), key=lambda x: x[1], reverse=True)   \n",
        "    return result"
      ],
      "execution_count": null,
      "outputs": []
    },
    {
      "cell_type": "markdown",
      "metadata": {
        "id": "73Qgb1bLB-eC"
      },
      "source": [
        "## Data Preprocessing\n"
      ]
    },
    {
      "cell_type": "markdown",
      "metadata": {
        "id": "H9OFRTTJXMiG"
      },
      "source": [
        "### Data Cleaning"
      ]
    },
    {
      "cell_type": "code",
      "metadata": {
        "id": "F_smN6RXwzpT",
        "outputId": "e6b7f0e7-9b59-4e84-8927-4a577b2edd00",
        "colab": {
          "base_uri": "https://localhost:8080/",
          "height": 139
        }
      },
      "source": [
        "# This chunk of code is nessesary only if run in Google Colab.\n",
        "from google.colab import drive\n",
        "drive.mount('/gdrive')\n",
        "%cd '/gdrive/My Drive/louridas/assignment_3'"
      ],
      "execution_count": null,
      "outputs": [
        {
          "output_type": "stream",
          "text": [
            "Go to this URL in a browser: https://accounts.google.com/o/oauth2/auth?client_id=947318989803-6bn6qk8qdgf4n4g3pfee6491hc0brc4i.apps.googleusercontent.com&redirect_uri=urn%3aietf%3awg%3aoauth%3a2.0%3aoob&response_type=code&scope=email%20https%3a%2f%2fwww.googleapis.com%2fauth%2fdocs.test%20https%3a%2f%2fwww.googleapis.com%2fauth%2fdrive%20https%3a%2f%2fwww.googleapis.com%2fauth%2fdrive.photos.readonly%20https%3a%2f%2fwww.googleapis.com%2fauth%2fpeopleapi.readonly\n",
            "\n",
            "Enter your authorization code:\n",
            "··········\n",
            "Mounted at /gdrive\n",
            "/gdrive/My Drive/louridas/assignment_3\n"
          ],
          "name": "stdout"
        }
      ]
    },
    {
      "cell_type": "code",
      "metadata": {
        "id": "eOuwXVt-xhfq"
      },
      "source": [
        "tweets = pd.read_csv('retweets.csv')"
      ],
      "execution_count": null,
      "outputs": []
    },
    {
      "cell_type": "code",
      "metadata": {
        "id": "xTiY8M5GxwIa"
      },
      "source": [
        "tweets = tweets.loc[tweets.lang == 'en']"
      ],
      "execution_count": null,
      "outputs": []
    },
    {
      "cell_type": "code",
      "metadata": {
        "id": "vs_4Mj4VJHZ7",
        "outputId": "e5bb9896-c585-4a15-e5d0-3f3b459cce37",
        "colab": {
          "base_uri": "https://localhost:8080/",
          "height": 34
        }
      },
      "source": [
        "tweets.shape[0]"
      ],
      "execution_count": null,
      "outputs": [
        {
          "output_type": "execute_result",
          "data": {
            "text/plain": [
              "13796"
            ]
          },
          "metadata": {
            "tags": []
          },
          "execution_count": 8
        }
      ]
    },
    {
      "cell_type": "markdown",
      "metadata": {
        "id": "S7wh6i9YUp-a"
      },
      "source": [
        "In this step I remove all the ids that belong to a group having frequency of less than 50 tweets."
      ]
    },
    {
      "cell_type": "code",
      "metadata": {
        "id": "XkSxwMKv9A7d"
      },
      "source": [
        "frequency_counts = tweets.origMepGroupShort.value_counts()\n",
        "to_remove = frequency_counts[frequency_counts <= 50].index\n",
        "tweets.replace(to_remove, np.nan, inplace=True)"
      ],
      "execution_count": null,
      "outputs": []
    },
    {
      "cell_type": "markdown",
      "metadata": {
        "id": "EvQgBgtyVKm1"
      },
      "source": [
        "In this step I initiate all the requested credentials for a succesfull tweeter API call."
      ]
    },
    {
      "cell_type": "code",
      "metadata": {
        "id": "7jadFhraykH4"
      },
      "source": [
        "#Twitter API Authentication\n",
        "consumer_key = 'consumer_key'\n",
        "consumer_secret = 'consumer_secret'\n",
        "access_token = 'access_token'\n",
        "access_token_secret = 'access_token_secret'\n",
        "\n",
        "auth = tweepy.OAuthHandler(consumer_key, consumer_secret)\n",
        "auth.set_access_token(access_token, access_token_secret)\n",
        "\n",
        "api = tweepy.API(auth)"
      ],
      "execution_count": null,
      "outputs": []
    },
    {
      "cell_type": "markdown",
      "metadata": {
        "id": "ZZrkdqbCViJu"
      },
      "source": [
        "In order not to violate the batch limit of tweeter API and to make the process of downloading tweets as fast as possible I downloaded the tweets based on the given tweet id in batches of 99 tweets."
      ]
    },
    {
      "cell_type": "code",
      "metadata": {
        "id": "1HEbVQDS3lrP"
      },
      "source": [
        "start, stop = 0, 0\n",
        "tweet_txt = []\n",
        "limit = tweets.shape[0] - 1\n",
        "tweet_ids = tweets.origTweetId\n",
        "\n",
        "while stop <= limit:\n",
        "  start = stop\n",
        "  stop = start + 100\n",
        "  if stop > limit: stop = limit\n",
        "  batch_tweets = api.statuses_lookup(id_= [x for x in tweet_ids[start:stop]])\n",
        "  for tweet in batch_tweets:\n",
        "      tweet_txt.append([tweet.id, tweet.text])"
      ],
      "execution_count": null,
      "outputs": []
    },
    {
      "cell_type": "code",
      "metadata": {
        "id": "-MAl_6f-OPMP",
        "outputId": "1824a52d-47a7-495f-c8c8-49195819d827",
        "colab": {
          "base_uri": "https://localhost:8080/",
          "height": 34
        }
      },
      "source": [
        "len(tweet_txt)"
      ],
      "execution_count": null,
      "outputs": [
        {
          "output_type": "execute_result",
          "data": {
            "text/plain": [
              "10193"
            ]
          },
          "metadata": {
            "tags": []
          },
          "execution_count": 12
        }
      ]
    },
    {
      "cell_type": "markdown",
      "metadata": {
        "id": "zYh_JGrQWJ3h"
      },
      "source": [
        "After removing all duplicates and dropping all `NA` values I was able to create my dataset containing of unique tweet ids and their corresponding MEP group."
      ]
    },
    {
      "cell_type": "code",
      "metadata": {
        "id": "y1xDEw5vjROX"
      },
      "source": [
        "tweet_txt = pd.DataFrame(tweet_txt, columns = ['origTweetId', 'text'])"
      ],
      "execution_count": null,
      "outputs": []
    },
    {
      "cell_type": "code",
      "metadata": {
        "id": "9lr-Q0I9jrDL"
      },
      "source": [
        "tweet_txt = pd.merge(tweet_txt, tweets[['origTweetId', 'origMepGroupShort']],\n",
        "                     how = 'left', on = 'origTweetId')"
      ],
      "execution_count": null,
      "outputs": []
    },
    {
      "cell_type": "code",
      "metadata": {
        "id": "VWSud9ah797-"
      },
      "source": [
        "tweet_txt = tweet_txt.drop_duplicates()\n",
        "tweet_txt = tweet_txt.dropna()"
      ],
      "execution_count": null,
      "outputs": []
    },
    {
      "cell_type": "code",
      "metadata": {
        "id": "QGAg946YCZZm"
      },
      "source": [
        "traindata = pd.DataFrame()\n",
        "traindata['text'] = tweet_txt.text\n",
        "traindata['label'] = tweet_txt.origMepGroupShort"
      ],
      "execution_count": null,
      "outputs": []
    },
    {
      "cell_type": "markdown",
      "metadata": {
        "id": "u9JG2PyWC6W9"
      },
      "source": [
        "### Data Exploration"
      ]
    },
    {
      "cell_type": "markdown",
      "metadata": {
        "id": "4D4J2nI5FPnI"
      },
      "source": [
        "I do not want any of the test set characteristics to bleed into my training dataset so at first I split the data set to train and test set as follows: 75% train data and 25% test data. I will also create a deep copy of each set since I indend to train a neural network that will require a different dataset format than traditional machine learnig practices. I will use `random_state` to make sure my results are consistent."
      ]
    },
    {
      "cell_type": "code",
      "metadata": {
        "id": "V0eZ2Z1SFEss"
      },
      "source": [
        "train_X, valid_X, train_Y, valid_Y = model_selection.train_test_split(traindata.text, traindata.label, random_state = 1)\n",
        "freq = train_Y.value_counts().reset_index()"
      ],
      "execution_count": null,
      "outputs": []
    },
    {
      "cell_type": "code",
      "metadata": {
        "id": "RDKVGe62z1MX"
      },
      "source": [
        "train_x = [x for x in train_X]\n",
        "train_y = [y for y in train_Y]\n",
        "valid_x = [x for x in valid_X]\n",
        "valid_y = [y for y in valid_Y]"
      ],
      "execution_count": null,
      "outputs": []
    },
    {
      "cell_type": "markdown",
      "metadata": {
        "id": "ihKq3ULMdw0e"
      },
      "source": [
        " As we can see from the distribution of the groups in our test data there is great imbalance between them"
      ]
    },
    {
      "cell_type": "code",
      "metadata": {
        "id": "6pqc5M5IaQ7d",
        "outputId": "db11fa99-8df9-4c7a-9afb-5ff979cbb3b2",
        "colab": {
          "base_uri": "https://localhost:8080/",
          "height": 281
        }
      },
      "source": [
        "plt.bar(freq['index'], freq.label)\n",
        "plt.title('Number of tweets per group')\n",
        "plt.show()"
      ],
      "execution_count": null,
      "outputs": [
        {
          "output_type": "display_data",
          "data": {
            "image/png": "[encoded data removed]",
            "text/plain": [
              "<Figure size 432x288 with 1 Axes>"
            ]
          },
          "metadata": {
            "tags": []
          }
        }
      ]
    },
    {
      "cell_type": "markdown",
      "metadata": {
        "id": "gBkmzthJeG5G"
      },
      "source": [
        "As expected stop words appear very often in the corpus. Also the term `EU` and the character `&amp` appear quite often as well. We will deal with them in later stages."
      ]
    },
    {
      "cell_type": "code",
      "metadata": {
        "id": "3onQO9qI4enB",
        "outputId": "d51cd702-22d1-4c97-94b7-f673e7e0af44",
        "colab": {
          "base_uri": "https://localhost:8080/",
          "height": 1000
        }
      },
      "source": [
        "getWordFreq([my_preprocessor(x) for x in train_x])[:100]"
      ],
      "execution_count": null,
      "outputs": [
        {
          "output_type": "execute_result",
          "data": {
            "text/plain": [
              "[('the', 4220),\n",
              " ('to', 4005),\n",
              " ('in', 2850),\n",
              " ('of', 2567),\n",
              " ('on', 2042),\n",
              " ('for', 1931),\n",
              " ('and', 1628),\n",
              " ('eu', 1579),\n",
              " ('is', 1310),\n",
              " ('with', 1177),\n",
              " ('exlmrk', 1112),\n",
              " ('not', 944),\n",
              " ('we', 939),\n",
              " ('it', 688),\n",
              " ('that', 669),\n",
              " ('at', 644),\n",
              " ('be', 628),\n",
              " ('will', 592),\n",
              " ('qsnmrk', 567),\n",
              " ('this', 565),\n",
              " ('are', 555),\n",
              " ('by', 538),\n",
              " ('from', 529),\n",
              " ('ukip', 520),\n",
              " ('today', 514),\n",
              " ('have', 477),\n",
              " ('my', 462),\n",
              " ('you', 431),\n",
              " ('europe', 430),\n",
              " ('now', 419),\n",
              " ('as', 417),\n",
              " ('european', 413),\n",
              " ('our', 413),\n",
              " ('about', 379),\n",
              " ('more', 347),\n",
              " ('all', 345),\n",
              " ('uk', 342),\n",
              " ('has', 335),\n",
              " ('no', 332),\n",
              " ('but', 332),\n",
              " ('@eppgroup', 329),\n",
              " ('people', 322),\n",
              " ('vote', 304),\n",
              " ('an', 295),\n",
              " ('great', 293),\n",
              " ('ep', 284),\n",
              " ('good', 284),\n",
              " ('do', 272),\n",
              " ('ttip', 270),\n",
              " ('must', 262),\n",
              " ('need', 261),\n",
              " ('support', 258),\n",
              " ('up', 257),\n",
              " ('meps', 254),\n",
              " ('labour', 252),\n",
              " ('new', 252),\n",
              " ('debate', 251),\n",
              " ('meeting', 248),\n",
              " ('parliament', 247),\n",
              " ('who', 242),\n",
              " ('just', 239),\n",
              " ('can', 237),\n",
              " ('what', 231),\n",
              " ('if', 231),\n",
              " ('they', 219),\n",
              " ('how', 218),\n",
              " ('against', 217),\n",
              " ('us', 211),\n",
              " ('so', 206),\n",
              " ('should', 206),\n",
              " ('@europarl_en', 206),\n",
              " ('he', 205),\n",
              " ('greece', 203),\n",
              " ('here', 202),\n",
              " ('right', 200),\n",
              " ('out', 192),\n",
              " ('was', 185),\n",
              " ('their', 182),\n",
              " ('only', 172),\n",
              " ('cameron', 170),\n",
              " ('@theprogressives', 167),\n",
              " ('his', 160),\n",
              " ('says', 160),\n",
              " ('work', 159),\n",
              " ('get', 158),\n",
              " ('migration', 155),\n",
              " ('want', 149),\n",
              " ('day', 148),\n",
              " ('time', 148),\n",
              " ('after', 147),\n",
              " ('me', 144),\n",
              " ('very', 144),\n",
              " ('see', 144),\n",
              " ('would', 143),\n",
              " ('mep', 143),\n",
              " ('thanks', 143),\n",
              " ('via', 143),\n",
              " ('there', 142),\n",
              " ('trade', 138),\n",
              " ('policy', 138)]"
            ]
          },
          "metadata": {
            "tags": []
          },
          "execution_count": 161
        }
      ]
    },
    {
      "cell_type": "markdown",
      "metadata": {
        "id": "cNoXo6G_hRfl"
      },
      "source": [
        "In this step I encoded the target variable to categorical labels and saved a mapping og the process."
      ]
    },
    {
      "cell_type": "code",
      "metadata": {
        "id": "YD9Bl-q9q5qe"
      },
      "source": [
        "encoder = preprocessing.LabelEncoder()\n",
        "train_y = encoder.fit_transform(train_y)\n",
        "valid_y = encoder.fit_transform(valid_y)"
      ],
      "execution_count": null,
      "outputs": []
    },
    {
      "cell_type": "code",
      "metadata": {
        "id": "xQJWawR6gNcs",
        "outputId": "8a6e567f-5c0e-47f8-9e90-cfd84874e24a",
        "colab": {
          "base_uri": "https://localhost:8080/",
          "height": 35
        }
      },
      "source": [
        "encoder.transform(['ALDE', 'ECR', 'EFDD', 'EPP', 'GUE-NGL', 'Greens-EFA', 'S&D'])"
      ],
      "execution_count": null,
      "outputs": [
        {
          "output_type": "execute_result",
          "data": {
            "text/plain": [
              "array([0, 1, 2, 3, 4, 5, 6])"
            ]
          },
          "metadata": {
            "tags": []
          },
          "execution_count": 163
        }
      ]
    },
    {
      "cell_type": "code",
      "metadata": {
        "id": "Jg_4SNXwbgN2"
      },
      "source": [
        "labels = {0: 'ALDE', 1: 'ECR', 2:'EFDD', 3:'EPP', 4:'GUE-NGL', 5:'Greens-EFA', 6:'S&D'}"
      ],
      "execution_count": null,
      "outputs": []
    },
    {
      "cell_type": "markdown",
      "metadata": {
        "id": "z57J8Q_6hwJV"
      },
      "source": [
        "I will create a list of stopwords that appear very often in the corpus in order to be omitted."
      ]
    },
    {
      "cell_type": "code",
      "metadata": {
        "id": "tZFxSnMtqFDV"
      },
      "source": [
        "stop_words = ['to', 'the', 'in', 'of', 'on', 'for', 'and', 'a', 'an', 'be', 'with', 'eu', 'is']"
      ],
      "execution_count": null,
      "outputs": []
    },
    {
      "cell_type": "markdown",
      "metadata": {
        "id": "BQwhOwo7tF3i"
      },
      "source": [
        "## Machine Learning Models"
      ]
    },
    {
      "cell_type": "markdown",
      "metadata": {
        "id": "3T5B5hk54jh9"
      },
      "source": [
        "### Decision Tree"
      ]
    },
    {
      "cell_type": "markdown",
      "metadata": {
        "id": "k_LiCLodo05d"
      },
      "source": [
        "I will use a custom preprocessor that will do the following tasks:\n",
        "\n",
        "\n",
        "*   Remove any link from the tweet. (*As it appears polititians love pasting links and the tweets are full of them so no extravariance is awarded among groups*)\n",
        "*   Keep only words and mentions as is. (*they may affect the contect of the tweet if tokenazed separately*)\n",
        "\n"
      ]
    },
    {
      "cell_type": "markdown",
      "metadata": {
        "id": "GQqTgL_6rpTU"
      },
      "source": [
        "Lets test the dataset after performing preprosessing and tokenization according to our functions"
      ]
    },
    {
      "cell_type": "markdown",
      "metadata": {
        "id": "mIVT34tz1ufa"
      },
      "source": [
        "In this step I will apply a custom version of vectorizer using the custom preprocessor I initiated."
      ]
    },
    {
      "cell_type": "markdown",
      "metadata": {
        "id": "s6Ok83VJntpz"
      },
      "source": [
        "* Count Vectorizer"
      ]
    },
    {
      "cell_type": "code",
      "metadata": {
        "id": "v4wXerXq14Xw"
      },
      "source": [
        "custom_vectorizer = CountVectorizer(preprocessor=my_preprocessor,\n",
        "                             #tokenizer=my_tokenizer,\n",
        "                             ngram_range=(1,1),\n",
        "                             stop_words = stop_words,\n",
        "                            )\n",
        "cv_matrix = custom_vectorizer.fit_transform(train_x)"
      ],
      "execution_count": null,
      "outputs": []
    },
    {
      "cell_type": "code",
      "metadata": {
        "id": "DAVNEBrAtWqc"
      },
      "source": [
        "score_bin = []"
      ],
      "execution_count": null,
      "outputs": []
    },
    {
      "cell_type": "markdown",
      "metadata": {
        "id": "aqOPkzHZrRr7"
      },
      "source": [
        "As we have already observe there are imbalanced classes in the dataset. To deal with this issue I will use a weighted version of all the decision tree based algorithms I test. I will take as refference the biggest class of the dataset and give it a weight of 1. Then I will distribute the weights to the other classes according to this equation:\n",
        "$$(\\frac{No of Obs. In Biggest Class}{No of Obs. in n class})^{1.1} $$"
      ]
    },
    {
      "cell_type": "code",
      "metadata": {
        "id": "DO41jUppBZAJ"
      },
      "source": [
        "weights = {0: (sum(train_y==2)/sum(train_y==0))**1.1,\n",
        "           1: (sum(train_y==2)/sum(train_y==1))**1.1,\n",
        "           2: 1,\n",
        "           3: (sum(train_y==2)/sum(train_y==3))**1.1,\n",
        "           4: (sum(train_y==2)/sum(train_y==4))**1.1,\n",
        "           5: (sum(train_y==2)/sum(train_y==5))**1.1,\n",
        "           6: (sum(train_y==2)/sum(train_y==6))**1.1}"
      ],
      "execution_count": null,
      "outputs": []
    },
    {
      "cell_type": "code",
      "metadata": {
        "id": "hclXHQpgob4L",
        "outputId": "7c279e09-a078-4fce-cb6f-e55872bb1b8c",
        "colab": {
          "base_uri": "https://localhost:8080/",
          "height": 142
        }
      },
      "source": [
        "weights"
      ],
      "execution_count": null,
      "outputs": [
        {
          "output_type": "execute_result",
          "data": {
            "text/plain": [
              "{0: 1.7281214415359492,\n",
              " 1: 2.666160669510833,\n",
              " 2: 1,\n",
              " 3: 1.5410080589415391,\n",
              " 4: 9.547342431493272,\n",
              " 5: 2.7984493563686015,\n",
              " 6: 1.0172780591017694}"
            ]
          },
          "metadata": {
            "tags": []
          },
          "execution_count": 168
        }
      ]
    },
    {
      "cell_type": "code",
      "metadata": {
        "id": "IWtahqmy9HFz",
        "outputId": "47a5277c-720c-439c-bae5-1ddc1450285a",
        "colab": {
          "base_uri": "https://localhost:8080/",
          "height": 35
        }
      },
      "source": [
        "clf = tree.DecisionTreeClassifier(class_weight=weights)\n",
        "clf.fit(cv_matrix, train_y)\n",
        "\n",
        "cv_score = cross_val_score(clf, \n",
        "                           custom_vectorizer.transform(valid_x), \n",
        "                           valid_y, cv=10)\n",
        "score_bin.append(['count vec tree', np.mean(cv_score)])\n",
        "print(np.mean(cv_score), sem(cv_score))"
      ],
      "execution_count": null,
      "outputs": [
        {
          "output_type": "stream",
          "text": [
            "0.42766020354175094 0.007506766601010574\n"
          ],
          "name": "stdout"
        }
      ]
    },
    {
      "cell_type": "code",
      "metadata": {
        "id": "0aiRjtpta1S8",
        "outputId": "e4608a22-a182-4d73-819e-aa8bc431bdf0",
        "colab": {
          "base_uri": "https://localhost:8080/",
          "height": 267
        }
      },
      "source": [
        "print(classification_report(valid_y, clf.predict(custom_vectorizer.transform(valid_x)),target_names = labels.values()))"
      ],
      "execution_count": null,
      "outputs": [
        {
          "output_type": "stream",
          "text": [
            "              precision    recall  f1-score   support\n",
            "\n",
            "        ALDE       0.37      0.35      0.36       355\n",
            "         ECR       0.31      0.35      0.33       223\n",
            "        EFDD       0.59      0.59      0.59       607\n",
            "         EPP       0.50      0.54      0.52       415\n",
            "     GUE-NGL       0.40      0.48      0.43        71\n",
            "  Greens-EFA       0.32      0.38      0.35       242\n",
            "         S&D       0.52      0.44      0.48       624\n",
            "\n",
            "    accuracy                           0.47      2537\n",
            "   macro avg       0.43      0.45      0.44      2537\n",
            "weighted avg       0.47      0.47      0.47      2537\n",
            "\n"
          ],
          "name": "stdout"
        }
      ]
    },
    {
      "cell_type": "markdown",
      "metadata": {
        "id": "kWeb_DNhn6AG"
      },
      "source": [
        "* Tfidf Vectorizer"
      ]
    },
    {
      "cell_type": "code",
      "metadata": {
        "id": "JcyAujIpmBpN"
      },
      "source": [
        "tf_vectorizer = TfidfVectorizer(preprocessor=my_preprocessor,\n",
        "                             ngram_range=(1,1),\n",
        "                             stop_words = stop_words,\n",
        "                             )\n",
        "tf_matrix = tf_vectorizer.fit_transform(train_x)"
      ],
      "execution_count": null,
      "outputs": []
    },
    {
      "cell_type": "code",
      "metadata": {
        "id": "6OrGffy2miuz",
        "outputId": "52c08b33-b419-495f-8372-1a90c82e17ab",
        "colab": {
          "base_uri": "https://localhost:8080/",
          "height": 71
        }
      },
      "source": [
        "clf = tree.DecisionTreeClassifier(class_weight=weights)\n",
        "clf.fit(tf_matrix, train_y)\n",
        "\n",
        "cv_score = cross_val_score(clf, \n",
        "                           tf_vectorizer.transform(valid_x), \n",
        "                           valid_y, cv=10)\n",
        "print(np.mean(cv_score), sem(cv_score))\n",
        "\n",
        "matrix_clf = confusion_matrix(valid_y, clf.predict(tf_vectorizer.transform(valid_x)))\n",
        "score_bin.append(['tfidf vec tree', np.mean(cv_score)])\n",
        "print(matrix_clf.diagonal()/matrix_clf.sum(axis=1))"
      ],
      "execution_count": null,
      "outputs": [
        {
          "output_type": "stream",
          "text": [
            "0.40560517879929037 0.005912091569219572\n",
            "[0.41971831 0.34080717 0.56672158 0.55662651 0.43661972 0.35950413\n",
            " 0.42788462]\n"
          ],
          "name": "stdout"
        }
      ]
    },
    {
      "cell_type": "markdown",
      "metadata": {
        "id": "26SFgYceuMzv"
      },
      "source": [
        "In this step I have created 2 initial decision trees (using count vectorizer and tfidf vectorizer). As we can see the accuracy of such models is very low. Let se how much ca we improve them."
      ]
    },
    {
      "cell_type": "code",
      "metadata": {
        "id": "A5v8gvOouiG9",
        "outputId": "320d625b-0e09-4202-d7cf-5f43b146ea92",
        "colab": {
          "base_uri": "https://localhost:8080/",
          "height": 214
        }
      },
      "source": [
        "score_bin"
      ],
      "execution_count": null,
      "outputs": [
        {
          "output_type": "execute_result",
          "data": {
            "text/plain": [
              "[['count vec tree', 0.4662710528907712],\n",
              " ['count vec tree', 0.4599527233330051],\n",
              " ['count vec tree', 0.46484290357529795],\n",
              " ['count vec tree', 0.4648626021865458],\n",
              " ['count vec tree', 0.4683935782527332],\n",
              " ['count vec tree', 0.46205555008371907],\n",
              " ['count vec tree', 0.46767457894218456],\n",
              " ['count vec tree', 0.4712006303555599],\n",
              " ['count vec tree', 0.4655914508027184],\n",
              " ['count vec tree', 0.46209002265340293],\n",
              " ['tfidf vec tree', 0.45784004727666694]]"
            ]
          },
          "metadata": {
            "tags": []
          },
          "execution_count": 252
        }
      ]
    },
    {
      "cell_type": "markdown",
      "metadata": {
        "id": "d7IccyrojUWN"
      },
      "source": [
        "In order to imporve the score in this model I will put the vectorizer and the decision tree algorithm in a pipeline and performe grid search to fine tune the paramenters. The parameters that I am going to test are:  \n",
        "* whether or not to use tidf or count vector\n",
        "* the minimun and maximum frequency of words usied in bag of words.\n",
        "* the range of ngramms"
      ]
    },
    {
      "cell_type": "code",
      "metadata": {
        "id": "B47fXTcvjEmN"
      },
      "source": [
        "count_tree = Pipeline([\n",
        "    ('vect', CountVectorizer(preprocessor=my_preprocessor, stop_words=stop_words),),\n",
        "     ('tfidf', TfidfTransformer()),\n",
        "    ('clf', tree.DecisionTreeClassifier(class_weight=weights))\n",
        "])"
      ],
      "execution_count": null,
      "outputs": []
    },
    {
      "cell_type": "code",
      "metadata": {
        "id": "7CCnoTmy9o8G"
      },
      "source": [
        "parameters = {'vect__ngram_range': [(1, 1), (1, 2)],\n",
        "              'tfidf__use_idf': (True, False),\n",
        "              'vect__max_df':(0.5,0.7,0.9,1.0,0.3),\n",
        "              'vect__min_df': (1,5,10,20)\n",
        "             }\n",
        "\n",
        "grid_count_tree = GridSearchCV(count_tree, parameters, n_jobs=-1, cv=10)    \n",
        "\n"
      ],
      "execution_count": null,
      "outputs": []
    },
    {
      "cell_type": "code",
      "metadata": {
        "id": "A9KlkvB5-Wk4",
        "outputId": "97f24385-e133-4e60-e71e-667a6103b21a",
        "colab": {
          "base_uri": "https://localhost:8080/",
          "height": 88
        }
      },
      "source": [
        "grid_count_tree.fit(train_x, train_y)\n",
        "\n",
        "grid_count_tree.best_params_"
      ],
      "execution_count": null,
      "outputs": [
        {
          "output_type": "execute_result",
          "data": {
            "text/plain": [
              "{'tfidf__use_idf': False,\n",
              " 'vect__max_df': 0.5,\n",
              " 'vect__min_df': 5,\n",
              " 'vect__ngram_range': (1, 2)}"
            ]
          },
          "metadata": {
            "tags": []
          },
          "execution_count": 177
        }
      ]
    },
    {
      "cell_type": "code",
      "metadata": {
        "id": "KEqTVA4cMhuL",
        "outputId": "1b334e15-9572-4c62-89d1-864b937b8755",
        "colab": {
          "base_uri": "https://localhost:8080/",
          "height": 35
        }
      },
      "source": [
        "predicted = grid_count_tree.predict(valid_x)\n",
        "score_bin.append(['grid tree', np.mean(predicted == valid_y)])\n",
        "np.mean(predicted == valid_y)"
      ],
      "execution_count": null,
      "outputs": [
        {
          "output_type": "execute_result",
          "data": {
            "text/plain": [
              "0.4619629483642097"
            ]
          },
          "metadata": {
            "tags": []
          },
          "execution_count": 178
        }
      ]
    },
    {
      "cell_type": "code",
      "metadata": {
        "id": "SWnuKpKyNAiq",
        "outputId": "d2299692-c418-4ab1-d73d-b2cf27e8d462",
        "colab": {
          "base_uri": "https://localhost:8080/",
          "height": 267
        }
      },
      "source": [
        "print(classification_report(valid_y, predicted,target_names = labels.values()))"
      ],
      "execution_count": null,
      "outputs": [
        {
          "output_type": "stream",
          "text": [
            "              precision    recall  f1-score   support\n",
            "\n",
            "        ALDE       0.34      0.39      0.36       355\n",
            "         ECR       0.32      0.35      0.33       223\n",
            "        EFDD       0.64      0.58      0.61       607\n",
            "         EPP       0.53      0.52      0.52       415\n",
            "     GUE-NGL       0.34      0.42      0.37        71\n",
            "  Greens-EFA       0.30      0.37      0.33       242\n",
            "         S&D       0.50      0.43      0.46       624\n",
            "\n",
            "    accuracy                           0.46      2537\n",
            "   macro avg       0.42      0.44      0.43      2537\n",
            "weighted avg       0.47      0.46      0.47      2537\n",
            "\n"
          ],
          "name": "stdout"
        }
      ]
    },
    {
      "cell_type": "markdown",
      "metadata": {
        "id": "N7_RSAGl1gMr"
      },
      "source": [
        "As we can see the accuracy score was freatly improved from 41% to 47,4%.The best parameters model used only single words as tokens, took the words tha appear in 10% or less of the tweets and did not use tidf vectorizer. In every case it appears that the classifier performs better at predicting correctly the class od EFDD since 64% of the instances classified as EFDD were correct and was able to retrieve 58% of all the EFDD instances which as shown by support was the second largest. Generaly speaking the classifier perfomed better on classes with more representations on the dataset."
      ]
    },
    {
      "cell_type": "markdown",
      "metadata": {
        "id": "F4NaU5TmGMbD"
      },
      "source": [
        "### Naive Bayes"
      ]
    },
    {
      "cell_type": "code",
      "metadata": {
        "id": "nKNuGJXJGOv5"
      },
      "source": [
        "naba = MultinomialNB().fit(cv_matrix, train_y)"
      ],
      "execution_count": null,
      "outputs": []
    },
    {
      "cell_type": "code",
      "metadata": {
        "id": "6JFuxaovGidh",
        "outputId": "96273b81-9a41-409c-a893-f62880007cae",
        "colab": {
          "base_uri": "https://localhost:8080/",
          "height": 71
        }
      },
      "source": [
        "cv_score = cross_val_score(naba, \n",
        "                           custom_vectorizer.transform(valid_x), \n",
        "                           valid_y, cv=10)\n",
        "print(np.mean(cv_score), sem(cv_score))\n",
        "score_bin.append(['naive bayes', np.mean(cv_score)])\n",
        "matrix_naba = confusion_matrix(valid_y, naba.predict(custom_vectorizer.transform(valid_x)))\n",
        "print(matrix_naba.diagonal()/matrix_naba.sum(axis=1))"
      ],
      "execution_count": null,
      "outputs": [
        {
          "output_type": "stream",
          "text": [
            "0.5388285456412809 0.004348594368120479\n",
            "[0.55492958 0.21524664 0.91598023 0.65301205 0.14084507 0.26033058\n",
            " 0.67467949]\n"
          ],
          "name": "stdout"
        }
      ]
    },
    {
      "cell_type": "markdown",
      "metadata": {
        "id": "fHuz6quQ45iu"
      },
      "source": [
        "As we can see the naive bayes model has better accuracy scores but performed poorly on some classes mainly due to the reason that it predicted the most common labels in most cases. I will try to improve this model using gid search and them perform a more in-depth analysis. As before I will create a pipeline of my vectorisers and the model. "
      ]
    },
    {
      "cell_type": "code",
      "metadata": {
        "id": "_kJIjJoTNUYX"
      },
      "source": [
        "count_nb = Pipeline([\n",
        "    ('vect', CountVectorizer(preprocessor=my_preprocessor)),\n",
        "     ('tfidf', TfidfTransformer()),\n",
        "    ('nb', MultinomialNB())\n",
        "])"
      ],
      "execution_count": null,
      "outputs": []
    },
    {
      "cell_type": "code",
      "metadata": {
        "id": "SM5al4NWNd36"
      },
      "source": [
        "parameters = {'vect__ngram_range': [(1, 1), (1, 2)],\n",
        "              'tfidf__use_idf': (True, False),\n",
        "              'vect__max_df':(0.5,1.0,0.3),\n",
        "              'vect__min_df': (1,5,10,20),\n",
        "              'nb__alpha': (1e-2,1e-1,1)\n",
        "             }\n",
        "\n",
        "grid_count_nb = GridSearchCV(count_nb, parameters, n_jobs=-1, cv=10) "
      ],
      "execution_count": null,
      "outputs": []
    },
    {
      "cell_type": "code",
      "metadata": {
        "id": "6D4DE-NyNypu",
        "outputId": "5b414ccc-63e9-4876-e4c7-9f0a0d6c3c6c",
        "colab": {
          "base_uri": "https://localhost:8080/",
          "height": 106
        }
      },
      "source": [
        "grid_count_nb.fit(train_x, train_y)\n",
        "\n",
        "grid_count_nb.best_params_"
      ],
      "execution_count": null,
      "outputs": [
        {
          "output_type": "execute_result",
          "data": {
            "text/plain": [
              "{'nb__alpha': 0.01,\n",
              " 'tfidf__use_idf': False,\n",
              " 'vect__max_df': 0.3,\n",
              " 'vect__min_df': 1,\n",
              " 'vect__ngram_range': (1, 1)}"
            ]
          },
          "metadata": {
            "tags": []
          },
          "execution_count": 184
        }
      ]
    },
    {
      "cell_type": "code",
      "metadata": {
        "id": "aXw-uyEnN56U",
        "outputId": "cf12d146-80e4-4fdc-9aff-578908f0d9be",
        "colab": {
          "base_uri": "https://localhost:8080/",
          "height": 35
        }
      },
      "source": [
        "predicted_nb = grid_count_nb.predict(valid_x)\n",
        "score_bin.append(['grid naive bayes', np.mean(predicted_nb == valid_y)])\n",
        "np.mean(predicted_nb == valid_y)"
      ],
      "execution_count": null,
      "outputs": [
        {
          "output_type": "execute_result",
          "data": {
            "text/plain": [
              "0.6204178163184864"
            ]
          },
          "metadata": {
            "tags": []
          },
          "execution_count": 185
        }
      ]
    },
    {
      "cell_type": "code",
      "metadata": {
        "id": "pte-hKCvQkJX",
        "outputId": "a062870b-22b3-4286-8b9a-af5744cff8d8",
        "colab": {
          "base_uri": "https://localhost:8080/",
          "height": 267
        }
      },
      "source": [
        "print(classification_report(valid_y, predicted_nb,target_names = labels.values()))"
      ],
      "execution_count": null,
      "outputs": [
        {
          "output_type": "stream",
          "text": [
            "              precision    recall  f1-score   support\n",
            "\n",
            "        ALDE       0.56      0.58      0.57       355\n",
            "         ECR       0.51      0.29      0.37       223\n",
            "        EFDD       0.68      0.86      0.76       607\n",
            "         EPP       0.62      0.62      0.62       415\n",
            "     GUE-NGL       0.79      0.32      0.46        71\n",
            "  Greens-EFA       0.58      0.35      0.44       242\n",
            "         S&D       0.61      0.66      0.63       624\n",
            "\n",
            "    accuracy                           0.62      2537\n",
            "   macro avg       0.62      0.53      0.55      2537\n",
            "weighted avg       0.61      0.62      0.61      2537\n",
            "\n"
          ],
          "name": "stdout"
        }
      ]
    },
    {
      "cell_type": "markdown",
      "metadata": {
        "id": "lM9JYhREPsKv"
      },
      "source": [
        "As it appears grid search was still able to improve the model. The optimal parameters used were:\n",
        "* The vectorizer used only single words as tokens\n",
        "* It used the words that appear in only the 30% of the tweets.\n",
        "* It did not utilized tidf scoring on the word tokens\n",
        "* The naive bayes alpha value was set to 0.1"
      ]
    },
    {
      "cell_type": "markdown",
      "metadata": {
        "id": "NqLJh8uUGO5-"
      },
      "source": [
        "This version of Naive Bayes algorithm was able to outperfom all previous models. On contrary to the tree based method it predincted more instances of GUE-NGL correctly but with a lower recall score. This means that it identified less tweets as GUE-NGL but the true possitives in percentage were more. EFDD still seems to be a well defined class for classification.\n"
      ]
    },
    {
      "cell_type": "markdown",
      "metadata": {
        "id": "k8i7L5T2RTA4"
      },
      "source": [
        "### Logistic Regression"
      ]
    },
    {
      "cell_type": "code",
      "metadata": {
        "id": "683mlhmJRUDl",
        "outputId": "53d3cbe1-22e2-423f-90a6-93f587ed0489",
        "colab": {
          "base_uri": "https://localhost:8080/",
          "height": 234
        }
      },
      "source": [
        "logreg = LogisticRegression().fit(cv_matrix, train_y)\n",
        "logreg_score = cross_val_score(logreg,\n",
        "                            custom_vectorizer.transform(valid_x), \n",
        "                            valid_y, \n",
        "                            cv=10)\n",
        "\n",
        "print(np.mean(logreg_score), sem(logreg_score))\n",
        "score_bin.append(['logistic regression',np.mean(logreg_score) ])\n",
        "matrix_logreg = confusion_matrix(valid_y, logreg.predict(custom_vectorizer.transform(valid_x)))\n",
        "print(matrix_logreg.diagonal()/matrix_logreg.sum(axis=1))"
      ],
      "execution_count": null,
      "outputs": [
        {
          "output_type": "stream",
          "text": [
            "/usr/local/lib/python3.6/dist-packages/sklearn/linear_model/_logistic.py:940: ConvergenceWarning: lbfgs failed to converge (status=1):\n",
            "STOP: TOTAL NO. of ITERATIONS REACHED LIMIT.\n",
            "\n",
            "Increase the number of iterations (max_iter) or scale the data as shown in:\n",
            "    https://scikit-learn.org/stable/modules/preprocessing.html\n",
            "Please also refer to the documentation for alternative solver options:\n",
            "    https://scikit-learn.org/stable/modules/linear_model.html#logistic-regression\n",
            "  extra_warning_msg=_LOGISTIC_SOLVER_CONVERGENCE_MSG)\n"
          ],
          "name": "stderr"
        },
        {
          "output_type": "stream",
          "text": [
            "0.5463290902866392 0.0038996777366599607\n",
            "[0.55492958 0.40358744 0.82042834 0.60963855 0.33802817 0.41735537\n",
            " 0.64423077]\n"
          ],
          "name": "stdout"
        }
      ]
    },
    {
      "cell_type": "code",
      "metadata": {
        "id": "amVUE6V8Rft6",
        "outputId": "2d848e43-48ac-4a0b-f833-cf9b9061cc50",
        "colab": {
          "base_uri": "https://localhost:8080/",
          "height": 198
        }
      },
      "source": [
        "count_lg = Pipeline([\n",
        "    ('vect', CountVectorizer(preprocessor=my_preprocessor, \n",
        "                             ngram_range = (1,1))),\n",
        "     ('tfidf', TfidfTransformer(use_idf = False)),\n",
        "    ('lg', LogisticRegression())\n",
        "])\n",
        "\n",
        "parameters = {'tfidf__use_idf': (True, False),\n",
        "              'vect__max_df':(0.5,0.2,0.3),\n",
        "              'vect__min_df': (1,2,3),\n",
        "              'lg__penalty': (\"l1\",\"l2\") # l1 lasso l2 ridge\n",
        "             }\n",
        "\n",
        "grid_count_lg = GridSearchCV(count_lg, parameters, n_jobs=-1, cv=10) \n",
        "\n",
        "grid_count_lg.fit(train_x, train_y)\n",
        "\n",
        "print(grid_count_lg.best_params_)"
      ],
      "execution_count": null,
      "outputs": [
        {
          "output_type": "stream",
          "text": [
            "{'lg__penalty': 'l2', 'tfidf__use_idf': True, 'vect__max_df': 0.2, 'vect__min_df': 1}\n"
          ],
          "name": "stdout"
        },
        {
          "output_type": "stream",
          "text": [
            "/usr/local/lib/python3.6/dist-packages/sklearn/linear_model/_logistic.py:940: ConvergenceWarning: lbfgs failed to converge (status=1):\n",
            "STOP: TOTAL NO. of ITERATIONS REACHED LIMIT.\n",
            "\n",
            "Increase the number of iterations (max_iter) or scale the data as shown in:\n",
            "    https://scikit-learn.org/stable/modules/preprocessing.html\n",
            "Please also refer to the documentation for alternative solver options:\n",
            "    https://scikit-learn.org/stable/modules/linear_model.html#logistic-regression\n",
            "  extra_warning_msg=_LOGISTIC_SOLVER_CONVERGENCE_MSG)\n"
          ],
          "name": "stderr"
        }
      ]
    },
    {
      "cell_type": "code",
      "metadata": {
        "id": "rItcfd4VRo3S",
        "outputId": "69ce6134-2c88-42e4-f802-da48804a5edd",
        "colab": {
          "base_uri": "https://localhost:8080/",
          "height": 35
        }
      },
      "source": [
        "predicted_lg = grid_count_lg.predict(valid_x)\n",
        "score_bin.append(['grid log regression',np.mean(predicted_lg == valid_y) ])\n",
        "np.mean(predicted_lg == valid_y)"
      ],
      "execution_count": null,
      "outputs": [
        {
          "output_type": "execute_result",
          "data": {
            "text/plain": [
              "0.6188411509657076"
            ]
          },
          "metadata": {
            "tags": []
          },
          "execution_count": 189
        }
      ]
    },
    {
      "cell_type": "code",
      "metadata": {
        "id": "bkAzXaHGjKwY",
        "outputId": "0dd46cb4-7108-4590-f783-15a9a4b37de3",
        "colab": {
          "base_uri": "https://localhost:8080/",
          "height": 267
        }
      },
      "source": [
        "print(classification_report(valid_y, predicted_lg,target_names = labels.values()))"
      ],
      "execution_count": null,
      "outputs": [
        {
          "output_type": "stream",
          "text": [
            "              precision    recall  f1-score   support\n",
            "\n",
            "        ALDE       0.57      0.55      0.56       355\n",
            "         ECR       0.73      0.26      0.39       223\n",
            "        EFDD       0.65      0.86      0.74       607\n",
            "         EPP       0.66      0.61      0.63       415\n",
            "     GUE-NGL       1.00      0.18      0.31        71\n",
            "  Greens-EFA       0.64      0.31      0.42       242\n",
            "         S&D       0.56      0.72      0.63       624\n",
            "\n",
            "    accuracy                           0.62      2537\n",
            "   macro avg       0.69      0.50      0.53      2537\n",
            "weighted avg       0.64      0.62      0.60      2537\n",
            "\n"
          ],
          "name": "stdout"
        }
      ]
    },
    {
      "cell_type": "markdown",
      "metadata": {
        "id": "RNwBrFvHHHhp"
      },
      "source": [
        "Using logistic regression the best perfoming predictions were in classes EFDD and EPP. It is pretty noticable that it achieved 100% precision in identifying GUE-NGL instances but wasable to retrieve only 18% of 71 of the tweets of this class."
      ]
    },
    {
      "cell_type": "markdown",
      "metadata": {
        "id": "gjBZgCFWmK1U"
      },
      "source": [
        "### Support Vector Machines Classifier"
      ]
    },
    {
      "cell_type": "code",
      "metadata": {
        "id": "WIjwXXVDmL7Y",
        "outputId": "3540992c-eef8-4746-ad85-21ea8c715811",
        "colab": {
          "base_uri": "https://localhost:8080/",
          "height": 71
        }
      },
      "source": [
        "cvma = svm.SVC().fit(cv_matrix, train_y)\n",
        "cvma_score = cross_val_score(cvma,\n",
        "                            custom_vectorizer.transform(valid_x), \n",
        "                            valid_y, \n",
        "                            cv=10)\n",
        "\n",
        "print(np.mean(cvma_score), sem(cvma_score))\n",
        "matrix_cvma = confusion_matrix(valid_y, cvma.predict(custom_vectorizer.transform(valid_x)))\n",
        "score_bin.append(['svm',np.mean(cvma_score)])\n",
        "print(matrix_cvma.diagonal()/matrix_cvma.sum(axis=1))"
      ],
      "execution_count": null,
      "outputs": [
        {
          "output_type": "stream",
          "text": [
            "0.48127042420092747 0.006853743966591\n",
            "[0.45352113 0.15246637 0.84349259 0.53975904 0.08450704 0.23553719\n",
            " 0.75320513]\n"
          ],
          "name": "stdout"
        }
      ]
    },
    {
      "cell_type": "code",
      "metadata": {
        "id": "GZCGF8fdmdLU",
        "outputId": "1ab3e7d1-3609-49bb-b547-c41b6ce53394",
        "colab": {
          "base_uri": "https://localhost:8080/",
          "height": 91
        }
      },
      "source": [
        "count_svm = Pipeline([\n",
        "                      ('vect', CountVectorizer(preprocessor=my_preprocessor,\n",
        "                                               ngram_range = (1,1))),\n",
        "                      ('tfidf', TfidfTransformer()),\n",
        "                      ('svm', svm.SVC())\n",
        "])\n",
        "\n",
        "parameters = [{'tfidf__use_idf': (True, False),\n",
        "              'vect__max_df':(0.5,0.2,0.3),\n",
        "              'vect__min_df': (1,3),\n",
        "             },\n",
        "              {'svm__kernel': ['rbf'], 'svm__gamma': [1e-3, 1e-4],\n",
        "                     'svm__C': [1, 10, 100, 1000]},\n",
        "              {'svm__kernel': ['linear'], 'svm__C': [1, 10, 100, 1000]}]\n",
        "grid_count_svm = GridSearchCV(count_svm, parameters, n_jobs=-1, cv=10) \n",
        "\n",
        "grid_count_svm.fit(train_x, train_y)\n",
        "\n",
        "print(grid_count_svm.best_params_)"
      ],
      "execution_count": null,
      "outputs": [
        {
          "output_type": "stream",
          "text": [
            "/usr/local/lib/python3.6/dist-packages/joblib/externals/loky/process_executor.py:706: UserWarning: A worker stopped while some jobs were given to the executor. This can be caused by a too short worker timeout or by a memory leak.\n",
            "  \"timeout or by a memory leak.\", UserWarning\n"
          ],
          "name": "stderr"
        },
        {
          "output_type": "stream",
          "text": [
            "{'svm__C': 1, 'svm__kernel': 'linear'}\n"
          ],
          "name": "stdout"
        }
      ]
    },
    {
      "cell_type": "code",
      "metadata": {
        "id": "tQZy2l0nxsOn",
        "outputId": "6508e9d0-e964-46b2-e5db-796897c2d87f",
        "colab": {
          "base_uri": "https://localhost:8080/",
          "height": 35
        }
      },
      "source": [
        "predicted_svm = grid_count_svm.predict(valid_x)\n",
        "score_bin.append(['grid svm',np.mean(predicted_svm == valid_y)])\n",
        "np.mean(predicted_svm == valid_y)"
      ],
      "execution_count": null,
      "outputs": [
        {
          "output_type": "execute_result",
          "data": {
            "text/plain": [
              "0.625147812376823"
            ]
          },
          "metadata": {
            "tags": []
          },
          "execution_count": 193
        }
      ]
    },
    {
      "cell_type": "code",
      "metadata": {
        "id": "Ic-3Yo2Vx9Ca",
        "outputId": "aa8c8aa2-b76e-4db2-d19d-ad9521daac8f",
        "colab": {
          "base_uri": "https://localhost:8080/",
          "height": 267
        }
      },
      "source": [
        "print(classification_report(valid_y, predicted_svm,target_names = labels.values()))"
      ],
      "execution_count": null,
      "outputs": [
        {
          "output_type": "stream",
          "text": [
            "              precision    recall  f1-score   support\n",
            "\n",
            "        ALDE       0.53      0.57      0.55       355\n",
            "         ECR       0.59      0.31      0.41       223\n",
            "        EFDD       0.68      0.86      0.76       607\n",
            "         EPP       0.67      0.61      0.64       415\n",
            "     GUE-NGL       0.81      0.31      0.45        71\n",
            "  Greens-EFA       0.58      0.38      0.46       242\n",
            "         S&D       0.60      0.68      0.64       624\n",
            "\n",
            "    accuracy                           0.63      2537\n",
            "   macro avg       0.64      0.53      0.56      2537\n",
            "weighted avg       0.62      0.63      0.61      2537\n",
            "\n"
          ],
          "name": "stdout"
        }
      ]
    },
    {
      "cell_type": "markdown",
      "metadata": {
        "id": "FSHEY0KjH7qe"
      },
      "source": [
        "So far SVM classifier appears to be the most suitable for our problem. It was able to predict the classes correctly for 63% of the tweets in the test set, retrieving a greater percentage of tweets in most categories. As always classes with more representations in the data set seem to be easier to predict for my models."
      ]
    },
    {
      "cell_type": "markdown",
      "metadata": {
        "id": "4UxmXSNZFlc1"
      },
      "source": [
        "In the following classifiers I did not performed grid search due to resources limitation and since I already exausted the requirements of this excersize. Since I already explained in detail the classification reports of the previous models I will not go into any further detail in the following classiers."
      ]
    },
    {
      "cell_type": "markdown",
      "metadata": {
        "id": "Yox09dAbE9Ur"
      },
      "source": [
        "### Baging"
      ]
    },
    {
      "cell_type": "markdown",
      "metadata": {
        "id": "hCd6-rxI31c0"
      },
      "source": [
        "Although Naive Baise seems to perform slightly better on our datase still the results are far from optimal. In my quest to create a better clasifier I will utilise Bagging "
      ]
    },
    {
      "cell_type": "code",
      "metadata": {
        "id": "XgLA3sr74ePn"
      },
      "source": [
        "bagging_clf = BaggingClassifier(tree.DecisionTreeClassifier(random_state=0, class_weight=weights), \n",
        "                                n_estimators=50, \n",
        "                                n_jobs=-1).fit(cv_matrix, train_y)\n",
        "bagged_cv_score = cross_val_score(bagging_clf, \n",
        "                                  custom_vectorizer.transform(valid_x), \n",
        "                                  valid_y, \n",
        "                                  cv=5)\n",
        "\n",
        "print(np.mean(bagged_cv_score), sem(bagged_cv_score))\n",
        "matrix_bg = confusion_matrix(valid_y, bagging_clf.predict(custom_vectorizer.transform(valid_x)))\n",
        "score_bin.append(['bagging trees', np.mean(bagged_cv_score)])\n",
        "print(matrix_bg.diagonal()/matrix_bg.sum(axis=1))"
      ],
      "execution_count": null,
      "outputs": []
    },
    {
      "cell_type": "markdown",
      "metadata": {
        "id": "hO0eOS3P7DBn"
      },
      "source": [
        "The accuracy of the bagged model using 50 subsets of the data set is more accurate but still Naive Bayes performs better "
      ]
    },
    {
      "cell_type": "markdown",
      "metadata": {
        "id": "vXVfPINg7Erm"
      },
      "source": [
        "### Random Forests"
      ]
    },
    {
      "cell_type": "code",
      "metadata": {
        "id": "UmIsf2oP7Jni",
        "outputId": "861abce2-a0db-4d82-ff4f-a126abc66599",
        "colab": {
          "base_uri": "https://localhost:8080/",
          "height": 71
        }
      },
      "source": [
        "frst = RandomForestClassifier(n_estimators=50, \n",
        "                              max_depth=200,\n",
        "                              min_samples_split=3, \n",
        "                              random_state=0, \n",
        "                              class_weight=weights).fit(cv_matrix, train_y)\n",
        "frst_score = cross_val_score(frst, \n",
        "                                  custom_vectorizer.transform(valid_x), \n",
        "                                  valid_y, \n",
        "                                  cv=5)\n",
        "\n",
        "print(np.mean(frst_score), sem(frst_score))\n",
        "score_bin.append(['Random Forest', np.mean(frst_score)])\n",
        "\n",
        "matrix_frst = confusion_matrix(valid_y, frst.predict(custom_vectorizer.transform(valid_x)))\n",
        "print(matrix_frst.diagonal()/matrix_frst.sum(axis=1))"
      ],
      "execution_count": null,
      "outputs": [
        {
          "output_type": "stream",
          "text": [
            "0.5171403500597929 0.007444407465315333\n",
            "[0.47887324 0.31838565 0.80560132 0.58072289 0.50704225 0.42561983\n",
            " 0.54326923]\n"
          ],
          "name": "stdout"
        }
      ]
    },
    {
      "cell_type": "markdown",
      "metadata": {
        "id": "2DTirTmv7-J1"
      },
      "source": [
        "### Extra Trees Classifier"
      ]
    },
    {
      "cell_type": "code",
      "metadata": {
        "id": "-s0JNLYi8Coh",
        "outputId": "59d2a33b-c39d-4418-a091-2d6915818196",
        "colab": {
          "base_uri": "https://localhost:8080/",
          "height": 71
        }
      },
      "source": [
        "ext = ExtraTreesClassifier(n_estimators=50, \n",
        "                            max_depth=500,\n",
        "                            min_samples_split=4,\n",
        "                            class_weight=weights,\n",
        "                            random_state=0).fit(cv_matrix, train_y)\n",
        "ext_score = cross_val_score(ext,\n",
        "                            custom_vectorizer.transform(valid_x), \n",
        "                            valid_y, \n",
        "                            cv=5)\n",
        "\n",
        "print(np.mean(ext_score), sem(ext_score))\n",
        "matrix_ext = confusion_matrix(valid_y, ext.predict(custom_vectorizer.transform(valid_x)))\n",
        "score_bin.append(['Extra Trees', np.mean(ext_score)])\n",
        "print(matrix_ext.diagonal()/matrix_ext.sum(axis=1))"
      ],
      "execution_count": null,
      "outputs": [
        {
          "output_type": "stream",
          "text": [
            "0.5277819192719253 0.00790064991218037\n",
            "[0.48732394 0.35874439 0.82701812 0.61927711 0.53521127 0.42975207\n",
            " 0.56570513]\n"
          ],
          "name": "stdout"
        }
      ]
    },
    {
      "cell_type": "markdown",
      "metadata": {
        "id": "7BftBIVq8tO8"
      },
      "source": [
        "As it appears there is not much difference between the extremely randomised trees and the random forest classifier as they performed similarly (still slightly worse than Naive Bayes classifier)."
      ]
    },
    {
      "cell_type": "markdown",
      "metadata": {
        "id": "2GvHTyqU9L-6"
      },
      "source": [
        "### AdaBoost Classifier"
      ]
    },
    {
      "cell_type": "code",
      "metadata": {
        "id": "zmkHoiBH-ok-",
        "outputId": "54844da3-ec00-4b47-dfa7-f6c362e3e797",
        "colab": {
          "base_uri": "https://localhost:8080/",
          "height": 71
        }
      },
      "source": [
        "adab = AdaBoostClassifier(tree.DecisionTreeClassifier(class_weight=weights,\n",
        "                                                      max_depth = 300),\n",
        "                                                      n_estimators=500).fit(cv_matrix, train_y)\n",
        "adab_score = cross_val_score(adab,\n",
        "                            custom_vectorizer.transform(valid_x), \n",
        "                            valid_y, \n",
        "                            cv=5)\n",
        "\n",
        "print(np.mean(adab_score), sem(adab_score))\n",
        "score_bin.append(['AdaBoost', np.mean(adab_score)])\n",
        "matrix_adab = confusion_matrix(valid_y, adab.predict(custom_vectorizer.transform(valid_x)))\n",
        "print(matrix_adab.diagonal()/matrix_adab.sum(axis=1))"
      ],
      "execution_count": null,
      "outputs": [
        {
          "output_type": "stream",
          "text": [
            "0.4233324014971501 0.006204119522070765\n",
            "[0.3943662  0.16591928 0.80230643 0.53493976 0.14084507 0.20661157\n",
            " 0.71794872]\n"
          ],
          "name": "stdout"
        }
      ]
    },
    {
      "cell_type": "markdown",
      "metadata": {
        "id": "FicAqaoDENUs"
      },
      "source": [
        "Adaptive boosting does not seem to work well with the given dataset."
      ]
    },
    {
      "cell_type": "markdown",
      "metadata": {
        "id": "0Ic2xwutKAvr"
      },
      "source": [
        "### XGBoost Classifier"
      ]
    },
    {
      "cell_type": "code",
      "metadata": {
        "id": "XyAQwg1YKKdI",
        "outputId": "a208d4e4-e1fb-45e5-ecb9-bac926a0c9c1",
        "colab": {
          "base_uri": "https://localhost:8080/",
          "height": 71
        }
      },
      "source": [
        "xgboost = xgb.XGBClassifier(n_estimators=100,\n",
        "                            max_depth=300, \n",
        "                            learning_rate=0.1, \n",
        "                            subsample=0.4).fit(cv_matrix, train_y)\n",
        "\n",
        "xgboost_score = cross_val_score(xgboost,\n",
        "                            custom_vectorizer.transform(valid_x), \n",
        "                            valid_y, \n",
        "                            cv=10)\n",
        "\n",
        "print(np.mean(xgboost_score), sem(xgboost_score))\n",
        "matrix_xgboost = confusion_matrix(valid_y, xgboost.predict(custom_vectorizer.transform(valid_x)))\n",
        "score_bin.append(['XGBoost', np.mean(xgboost_score)])\n",
        "print(matrix_xgboost.diagonal()/matrix_xgboost.sum(axis=1))"
      ],
      "execution_count": null,
      "outputs": [
        {
          "output_type": "stream",
          "text": [
            "0.5005944415050886 0.006641021878610744\n",
            "[0.52112676 0.39461883 0.80065898 0.60481928 0.4084507  0.38016529\n",
            " 0.61538462]\n"
          ],
          "name": "stdout"
        }
      ]
    },
    {
      "cell_type": "code",
      "metadata": {
        "id": "eRBfAhYBPnIX"
      },
      "source": [
        "pd.DataFrame(score_bin).to_excel('scores.xlsx')"
      ],
      "execution_count": null,
      "outputs": []
    },
    {
      "cell_type": "markdown",
      "metadata": {
        "id": "iX7tMTMwJJAO"
      },
      "source": [
        "In this step the scores of all classifiers were stored in order to avaid re-running them again."
      ]
    },
    {
      "cell_type": "code",
      "metadata": {
        "id": "HCNCgepS212n"
      },
      "source": [
        "score_bin = pd.read_excel('scores.xlsx')"
      ],
      "execution_count": null,
      "outputs": []
    },
    {
      "cell_type": "markdown",
      "metadata": {
        "id": "ZqKzBRAMguYj"
      },
      "source": [
        "### Neural Network"
      ]
    },
    {
      "cell_type": "code",
      "metadata": {
        "id": "mdLziDzXgxdR",
        "outputId": "976c180f-ac8a-4130-a5ed-fd5f143f0238",
        "colab": {
          "base_uri": "https://localhost:8080/",
          "height": 80
        }
      },
      "source": [
        "from keras import backend as K\n",
        "from keras.models import Sequential\n",
        "from keras.layers import Dense, Embedding,Reshape,Concatenate,Conv2D,MaxPool2D, LSTM, GRU, SpatialDropout1D, MaxPooling1D, Conv1D, Flatten, GlobalMaxPool1D, Bidirectional, TimeDistributed\n",
        "from keras.preprocessing.text import Tokenizer\n",
        "from keras.preprocessing.sequence import pad_sequences\n",
        "from keras.utils.np_utils import to_categorical\n",
        "from keras.callbacks import EarlyStopping\n",
        "from keras.layers import Dropout\n",
        "from keras.optimizers import Adam\n",
        "from sklearn.utils import class_weight\n",
        "from gensim.models import Word2Vec \n",
        "from keras.initializers import Constant\n",
        "import os"
      ],
      "execution_count": null,
      "outputs": [
        {
          "output_type": "stream",
          "text": [
            "Using TensorFlow backend.\n"
          ],
          "name": "stderr"
        },
        {
          "output_type": "display_data",
          "data": {
            "text/html": [
              "<p style=\"color: red;\">\n",
              "The default version of TensorFlow in Colab will soon switch to TensorFlow 2.x.<br>\n",
              "We recommend you <a href=\"https://www.tensorflow.org/guide/migrate\" target=\"_blank\">upgrade</a> now \n",
              "or ensure your notebook will continue to use TensorFlow 1.x via the <code>%tensorflow_version 1.x</code> magic:\n",
              "<a href=\"https://colab.research.google.com/notebooks/tensorflow_version.ipynb\" target=\"_blank\">more info</a>.</p>\n"
            ],
            "text/plain": [
              "<IPython.core.display.HTML object>"
            ]
          },
          "metadata": {
            "tags": []
          }
        }
      ]
    },
    {
      "cell_type": "code",
      "metadata": {
        "id": "iqSIOo_tzp6S"
      },
      "source": [
        "train_X = [my_preprocessor(x) for x in train_X]\n",
        "test_X = [my_preprocessor(x) for x in valid_X]"
      ],
      "execution_count": null,
      "outputs": []
    },
    {
      "cell_type": "code",
      "metadata": {
        "id": "sbLFE8YH1q8c"
      },
      "source": [
        "max_len = 0\n",
        "for sentence in train_X:\n",
        "  if max_len < len(sentence.split()):\n",
        "     max_len = len(sentence.split())"
      ],
      "execution_count": null,
      "outputs": []
    },
    {
      "cell_type": "code",
      "metadata": {
        "id": "H4DRdj5vUC21",
        "outputId": "b6530df0-f047-4c0b-cc4f-6e0a73f1453a",
        "colab": {
          "base_uri": "https://localhost:8080/",
          "height": 34
        }
      },
      "source": [
        "max_len"
      ],
      "execution_count": null,
      "outputs": [
        {
          "output_type": "execute_result",
          "data": {
            "text/plain": [
              "32"
            ]
          },
          "metadata": {
            "tags": []
          },
          "execution_count": 22
        }
      ]
    },
    {
      "cell_type": "markdown",
      "metadata": {
        "id": "N51xGjw_JjNC"
      },
      "source": [
        "The largest tweet consists of 32 words. I will use that as refference and pad all the rest in order to create a single input size of 32 tokens. I will also use the 8000 most common words  and represent each word with an embedding size of 200 lenght. I will not use pretraned embeddings or train my own separately as it is out of the scope of my assignement. The embedings will be trained will fitting the neural network model."
      ]
    },
    {
      "cell_type": "code",
      "metadata": {
        "id": "adUBJ0oklhRl",
        "outputId": "e6541304-3859-4cfd-f6c0-ef7ed23418ee",
        "colab": {
          "base_uri": "https://localhost:8080/",
          "height": 34
        }
      },
      "source": [
        "# The maximum number of words to be used. (most frequent)\n",
        "MAX_NB_WORDS = 8000\n",
        "# This is fixed.\n",
        "EMBEDDING_DIM = 200\n",
        "\n",
        "tokenizer = Tokenizer(num_words=MAX_NB_WORDS,\n",
        "                      char_level = False)\n",
        "tokenizer.fit_on_texts(train_X)\n",
        "word_index = tokenizer.word_index\n",
        "print('Found %s unique tokens.' % len(word_index))"
      ],
      "execution_count": null,
      "outputs": [
        {
          "output_type": "stream",
          "text": [
            "Found 13795 unique tokens.\n"
          ],
          "name": "stdout"
        }
      ]
    },
    {
      "cell_type": "code",
      "metadata": {
        "id": "gTYGgdg9nQO5",
        "outputId": "0578e7a3-9a6e-42b4-f71c-200fcf681637",
        "colab": {
          "base_uri": "https://localhost:8080/",
          "height": 34
        }
      },
      "source": [
        "X = tokenizer.texts_to_sequences(train_X)\n",
        "X = pad_sequences(X, maxlen=32)\n",
        "print('Shape of data tensor:', X.shape)"
      ],
      "execution_count": null,
      "outputs": [
        {
          "output_type": "stream",
          "text": [
            "Shape of data tensor: (7608, 32)\n"
          ],
          "name": "stdout"
        }
      ]
    },
    {
      "cell_type": "code",
      "metadata": {
        "id": "r3hW5DExzvqE"
      },
      "source": [
        "test_X = tokenizer.texts_to_sequences(test_X)\n",
        "test_X = pad_sequences(test_X, maxlen=32)"
      ],
      "execution_count": null,
      "outputs": []
    },
    {
      "cell_type": "markdown",
      "metadata": {
        "id": "7qvs5LwxKXwP"
      },
      "source": [
        "I will convert each class in a vector representation of 0 and 1 accordingly."
      ]
    },
    {
      "cell_type": "code",
      "metadata": {
        "id": "k7cTtbu1nzFE"
      },
      "source": [
        "Y = pd.get_dummies(train_Y).values\n",
        "test_Y = pd.get_dummies(valid_Y).values\n"
      ],
      "execution_count": null,
      "outputs": []
    },
    {
      "cell_type": "markdown",
      "metadata": {
        "id": "jXhbe5V3Kj6-"
      },
      "source": [
        "Since there is imbalance among the classes of the dataset I will set weights."
      ]
    },
    {
      "cell_type": "code",
      "metadata": {
        "id": "C9zgQ6qS4KUp"
      },
      "source": [
        "class_weights = class_weight.compute_class_weight('balanced',\n",
        "                                                 np.unique(train_Y),\n",
        "                                                  train_Y)"
      ],
      "execution_count": null,
      "outputs": []
    },
    {
      "cell_type": "markdown",
      "metadata": {
        "id": "uy9TrQbXKs5i"
      },
      "source": [
        "The main logic behind this neural network is that after creating the embeddings I will use a max pooling layer to reduce dimentionality and reduce overfitting. The I initialised a dropout layer switching of 10% of the neurons at random. Then I will add a dene layer of size 7 which will be my output layer and convert all the inputs of the previous layers to class representations."
      ]
    },
    {
      "cell_type": "code",
      "metadata": {
        "id": "TnRfc0-Oi6PA",
        "outputId": "ae330ae5-f33c-4cb6-80bd-846be2c01e92",
        "colab": {
          "base_uri": "https://localhost:8080/",
          "height": 581
        }
      },
      "source": [
        "model = Sequential()\n",
        "model.add(Embedding(MAX_NB_WORDS, \n",
        "                    EMBEDDING_DIM, \n",
        "                    input_length=X.shape[1], \n",
        "                    trainable=True))\n",
        "model.add(GlobalMaxPool1D())\n",
        "model.add(Dropout(0.1))\n",
        "model.add(Dense(7, activation='softmax'))\n",
        "model.compile(loss='categorical_crossentropy', optimizer=Adam(lr=0.001), metrics=['accuracy'])\n",
        "print(model.summary())"
      ],
      "execution_count": null,
      "outputs": [
        {
          "output_type": "stream",
          "text": [
            "WARNING:tensorflow:From /usr/local/lib/python3.6/dist-packages/keras/backend/tensorflow_backend.py:66: The name tf.get_default_graph is deprecated. Please use tf.compat.v1.get_default_graph instead.\n",
            "\n",
            "WARNING:tensorflow:From /usr/local/lib/python3.6/dist-packages/keras/backend/tensorflow_backend.py:541: The name tf.placeholder is deprecated. Please use tf.compat.v1.placeholder instead.\n",
            "\n",
            "WARNING:tensorflow:From /usr/local/lib/python3.6/dist-packages/keras/backend/tensorflow_backend.py:4432: The name tf.random_uniform is deprecated. Please use tf.random.uniform instead.\n",
            "\n",
            "WARNING:tensorflow:From /usr/local/lib/python3.6/dist-packages/keras/backend/tensorflow_backend.py:148: The name tf.placeholder_with_default is deprecated. Please use tf.compat.v1.placeholder_with_default instead.\n",
            "\n",
            "WARNING:tensorflow:From /usr/local/lib/python3.6/dist-packages/keras/backend/tensorflow_backend.py:3733: calling dropout (from tensorflow.python.ops.nn_ops) with keep_prob is deprecated and will be removed in a future version.\n",
            "Instructions for updating:\n",
            "Please use `rate` instead of `keep_prob`. Rate should be set to `rate = 1 - keep_prob`.\n",
            "WARNING:tensorflow:From /usr/local/lib/python3.6/dist-packages/keras/optimizers.py:793: The name tf.train.Optimizer is deprecated. Please use tf.compat.v1.train.Optimizer instead.\n",
            "\n",
            "WARNING:tensorflow:From /usr/local/lib/python3.6/dist-packages/keras/backend/tensorflow_backend.py:3576: The name tf.log is deprecated. Please use tf.math.log instead.\n",
            "\n",
            "Model: \"sequential_1\"\n",
            "_________________________________________________________________\n",
            "Layer (type)                 Output Shape              Param #   \n",
            "=================================================================\n",
            "embedding_1 (Embedding)      (None, 32, 200)           1600000   \n",
            "_________________________________________________________________\n",
            "global_max_pooling1d_1 (Glob (None, 200)               0         \n",
            "_________________________________________________________________\n",
            "dropout_1 (Dropout)          (None, 200)               0         \n",
            "_________________________________________________________________\n",
            "dense_1 (Dense)              (None, 7)                 1407      \n",
            "=================================================================\n",
            "Total params: 1,601,407\n",
            "Trainable params: 1,601,407\n",
            "Non-trainable params: 0\n",
            "_________________________________________________________________\n",
            "None\n"
          ],
          "name": "stdout"
        }
      ]
    },
    {
      "cell_type": "markdown",
      "metadata": {
        "id": "MBj8T9089krD"
      },
      "source": [
        "I will let mymodel train for 100 epochs whith a batch size of 32 training samples. In each epoch the initial training set will be further split to training set where my model will try to detect any patterns and a validation set, where my model would validate its learning and adjust its internal parameters accordingly. I order to avoid training my model while being overfit I set an early callback, which basically will stop the trainig process if the validation loss score does not change by a value larger than 0.0001 in 5 epochs. Finally, in order to address the issue of imbalance in my dataset, I gave different weights to each class."
      ]
    },
    {
      "cell_type": "code",
      "metadata": {
        "id": "x5HfAs7VjhY6",
        "outputId": "d2715052-17f8-4b5c-eba6-967e4c9bb1c2",
        "colab": {
          "base_uri": "https://localhost:8080/",
          "height": 819
        }
      },
      "source": [
        "epochs = 100\n",
        "batch_size = 64\n",
        "\n",
        "history = model.fit(X, Y, epochs=epochs, \n",
        "                    batch_size=batch_size,\n",
        "                    validation_split=0.1,\n",
        "                    callbacks=[EarlyStopping(monitor='val_loss', patience=5, min_delta=0.0001)],\n",
        "                    class_weight = class_weights\n",
        "                    )"
      ],
      "execution_count": null,
      "outputs": [
        {
          "output_type": "stream",
          "text": [
            "WARNING:tensorflow:From /usr/local/lib/python3.6/dist-packages/tensorflow_core/python/ops/math_grad.py:1424: where (from tensorflow.python.ops.array_ops) is deprecated and will be removed in a future version.\n",
            "Instructions for updating:\n",
            "Use tf.where in 2.0, which has the same broadcast rule as np.where\n",
            "WARNING:tensorflow:From /usr/local/lib/python3.6/dist-packages/keras/backend/tensorflow_backend.py:1033: The name tf.assign_add is deprecated. Please use tf.compat.v1.assign_add instead.\n",
            "\n",
            "WARNING:tensorflow:From /usr/local/lib/python3.6/dist-packages/keras/backend/tensorflow_backend.py:1020: The name tf.assign is deprecated. Please use tf.compat.v1.assign instead.\n",
            "\n",
            "WARNING:tensorflow:From /usr/local/lib/python3.6/dist-packages/keras/backend/tensorflow_backend.py:3005: The name tf.Session is deprecated. Please use tf.compat.v1.Session instead.\n",
            "\n",
            "Train on 6847 samples, validate on 761 samples\n",
            "Epoch 1/100\n",
            "WARNING:tensorflow:From /usr/local/lib/python3.6/dist-packages/keras/backend/tensorflow_backend.py:190: The name tf.get_default_session is deprecated. Please use tf.compat.v1.get_default_session instead.\n",
            "\n",
            "WARNING:tensorflow:From /usr/local/lib/python3.6/dist-packages/keras/backend/tensorflow_backend.py:197: The name tf.ConfigProto is deprecated. Please use tf.compat.v1.ConfigProto instead.\n",
            "\n",
            "WARNING:tensorflow:From /usr/local/lib/python3.6/dist-packages/keras/backend/tensorflow_backend.py:207: The name tf.global_variables is deprecated. Please use tf.compat.v1.global_variables instead.\n",
            "\n",
            "WARNING:tensorflow:From /usr/local/lib/python3.6/dist-packages/keras/backend/tensorflow_backend.py:216: The name tf.is_variable_initialized is deprecated. Please use tf.compat.v1.is_variable_initialized instead.\n",
            "\n",
            "WARNING:tensorflow:From /usr/local/lib/python3.6/dist-packages/keras/backend/tensorflow_backend.py:223: The name tf.variables_initializer is deprecated. Please use tf.compat.v1.variables_initializer instead.\n",
            "\n",
            "6847/6847 [==============================] - 16s 2ms/step - loss: 1.8208 - acc: 0.2902 - val_loss: 1.7001 - val_acc: 0.3916\n",
            "Epoch 2/100\n",
            "6847/6847 [==============================] - 0s 63us/step - loss: 1.5894 - acc: 0.4795 - val_loss: 1.4829 - val_acc: 0.4901\n",
            "Epoch 3/100\n",
            "6847/6847 [==============================] - 0s 63us/step - loss: 1.3095 - acc: 0.6044 - val_loss: 1.3003 - val_acc: 0.5677\n",
            "Epoch 4/100\n",
            "6847/6847 [==============================] - 0s 68us/step - loss: 1.0517 - acc: 0.7327 - val_loss: 1.1813 - val_acc: 0.6058\n",
            "Epoch 5/100\n",
            "6847/6847 [==============================] - 0s 66us/step - loss: 0.8218 - acc: 0.8126 - val_loss: 1.1074 - val_acc: 0.6255\n",
            "Epoch 6/100\n",
            "6847/6847 [==============================] - 0s 65us/step - loss: 0.6210 - acc: 0.8779 - val_loss: 1.0616 - val_acc: 0.6373\n",
            "Epoch 7/100\n",
            "6847/6847 [==============================] - 0s 66us/step - loss: 0.4604 - acc: 0.9198 - val_loss: 1.0397 - val_acc: 0.6360\n",
            "Epoch 8/100\n",
            "6847/6847 [==============================] - 0s 67us/step - loss: 0.3345 - acc: 0.9483 - val_loss: 1.0275 - val_acc: 0.6413\n",
            "Epoch 9/100\n",
            "6847/6847 [==============================] - 0s 71us/step - loss: 0.2440 - acc: 0.9670 - val_loss: 1.0283 - val_acc: 0.6360\n",
            "Epoch 10/100\n",
            "6847/6847 [==============================] - 0s 68us/step - loss: 0.1788 - acc: 0.9826 - val_loss: 1.0322 - val_acc: 0.6373\n",
            "Epoch 11/100\n",
            "6847/6847 [==============================] - 0s 68us/step - loss: 0.1322 - acc: 0.9896 - val_loss: 1.0416 - val_acc: 0.6360\n",
            "Epoch 12/100\n",
            "6847/6847 [==============================] - 0s 69us/step - loss: 0.1003 - acc: 0.9942 - val_loss: 1.0534 - val_acc: 0.6360\n",
            "Epoch 13/100\n",
            "6847/6847 [==============================] - 0s 68us/step - loss: 0.0759 - acc: 0.9971 - val_loss: 1.0679 - val_acc: 0.6360\n"
          ],
          "name": "stdout"
        }
      ]
    },
    {
      "cell_type": "code",
      "metadata": {
        "id": "meV_RhxbvNkw",
        "outputId": "81119034-3277-4e46-949e-061ba8fc27fd",
        "colab": {
          "base_uri": "https://localhost:8080/",
          "height": 295
        }
      },
      "source": [
        "# summarize history for accuracy\n",
        "plt.plot(history.history['acc'])\n",
        "plt.plot(history.history['val_acc'])\n",
        "plt.title('model accuracy')\n",
        "plt.ylabel('accuracy')\n",
        "plt.xlabel('epoch')\n",
        "plt.legend(['train', 'validation'], loc='upper left')\n",
        "plt.show()"
      ],
      "execution_count": null,
      "outputs": [
        {
          "output_type": "display_data",
          "data": {
            "image/png": "[encoded data removed]",
            "text/plain": [
              "<Figure size 432x288 with 1 Axes>"
            ]
          },
          "metadata": {
            "tags": []
          }
        }
      ]
    },
    {
      "cell_type": "code",
      "metadata": {
        "id": "A2j7f2BIvTVW",
        "outputId": "2096880f-f022-4a36-d21a-bb4ad041d5fc",
        "colab": {
          "base_uri": "https://localhost:8080/",
          "height": 295
        }
      },
      "source": [
        "# summarize history for loss\n",
        "plt.plot(history.history['loss'])\n",
        "plt.plot(history.history['val_loss'])\n",
        "plt.title('model loss')\n",
        "plt.ylabel('loss')\n",
        "plt.xlabel('epoch')\n",
        "plt.legend(['train', 'validation'], loc='upper left')\n",
        "plt.show()"
      ],
      "execution_count": null,
      "outputs": [
        {
          "output_type": "display_data",
          "data": {
            "image/png": "[encoded data removed]",
            "text/plain": [
              "<Figure size 432x288 with 1 Axes>"
            ]
          },
          "metadata": {
            "tags": []
          }
        }
      ]
    },
    {
      "cell_type": "markdown",
      "metadata": {
        "id": "FctR448gLi7d"
      },
      "source": [
        "As it appears we were able to reach 64% accuracy on the validation set. The accuracy on the training set on the other hand was at 100% which is a clear sign that our model overfitted on the training dataset and was not able to generalize well, thus firing the early callback and stopping the training process at 15 epochs. Some possible reasons of that matter could be the fact that our model was not able to catch the true semantic meaning of the tweets or our dataset was just too small making our model incapable of learning."
      ]
    },
    {
      "cell_type": "code",
      "metadata": {
        "id": "ddq1lKreBpRf",
        "outputId": "c1dd91f7-5003-402d-8a5d-270771705de6",
        "colab": {
          "base_uri": "https://localhost:8080/",
          "height": 34
        }
      },
      "source": [
        "score = model.evaluate(test_X, test_Y,\n",
        "                       batch_size=batch_size, verbose=1)"
      ],
      "execution_count": null,
      "outputs": [
        {
          "output_type": "stream",
          "text": [
            "2536/2536 [==============================] - 0s 20us/step\n"
          ],
          "name": "stdout"
        }
      ]
    },
    {
      "cell_type": "code",
      "metadata": {
        "id": "E-PpCZFnGk1s",
        "outputId": "9424ffbd-e496-47bd-bf38-01df0a646e24",
        "colab": {
          "base_uri": "https://localhost:8080/",
          "height": 34
        }
      },
      "source": [
        "score[1]"
      ],
      "execution_count": null,
      "outputs": [
        {
          "output_type": "execute_result",
          "data": {
            "text/plain": [
              "0.6328864357072849"
            ]
          },
          "metadata": {
            "tags": []
          },
          "execution_count": 35
        }
      ]
    },
    {
      "cell_type": "markdown",
      "metadata": {
        "id": "S0j_cVHCHI0W"
      },
      "source": [
        "After evaluating the keras model n the test dataset the accuracy score is around 63%."
      ]
    },
    {
      "cell_type": "code",
      "metadata": {
        "id": "wg8vrsE_IIy9"
      },
      "source": [
        "score_bin = score_bin.append(pd.Series([14, 'Neural Network', score[1]], index=score_bin.columns), ignore_index=True)"
      ],
      "execution_count": null,
      "outputs": []
    },
    {
      "cell_type": "code",
      "metadata": {
        "id": "OaqShq3PJko7",
        "outputId": "d9c8e746-772d-4c7c-839c-105dda6e63c5",
        "colab": {
          "base_uri": "https://localhost:8080/",
          "height": 383
        }
      },
      "source": [
        "plt.bar(list(score_bin.iloc[:, 1]), list(score_bin.iloc[:, 2]))\n",
        "plt.xticks(rotation = 90)"
      ],
      "execution_count": null,
      "outputs": [
        {
          "output_type": "execute_result",
          "data": {
            "text/plain": [
              "([0, 1, 2, 3, 4, 5, 6, 7, 8, 9, 10, 11, 12, 13, 14],\n",
              " <a list of 15 Text xticklabel objects>)"
            ]
          },
          "metadata": {
            "tags": []
          },
          "execution_count": 73
        },
        {
          "output_type": "display_data",
          "data": {
            "image/png": "[encoded data removed]",
            "text/plain": [
              "<Figure size 432x288 with 1 Axes>"
            ]
          },
          "metadata": {
            "tags": []
          }
        }
      ]
    },
    {
      "cell_type": "markdown",
      "metadata": {
        "id": "AnaP4Q8_L2vo"
      },
      "source": [
        "As it appears the Neural Network model was able to achive greater accuracy on the test set, following the SVM model after grid search, the Naive Bayes after grid search and the logistic regression after grid search."
      ]
    },
    {
      "cell_type": "markdown",
      "metadata": {
        "id": "qJ7T91feNmGD"
      },
      "source": [
        "## Further Research"
      ]
    },
    {
      "cell_type": "markdown",
      "metadata": {
        "id": "ou_nUUxrMT_X"
      },
      "source": [
        "In order to achieve bette results a possible next step would be to download GLOVE embedings and retrain them to better suit the data. I more complex Neural network could be fitted using Convolutional Layers and LSTM Layers to better catch the semantic meaning of the tweets. Also since neural networks require a lot of data to be trained since they have much more parameters that classic machine learning models, an oversampling technique could be used in the training data only (SMOTE package). Apart from that ensembling between models that perfom their best on different classes may produce a model that could generalize better and achieve a more accurate classification."
      ]
    }
  ]
}